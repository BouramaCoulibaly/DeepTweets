{
 "cells": [
  {
   "cell_type": "markdown",
   "id": "3a294a1b",
   "metadata": {},
   "source": [
    "## Importing necessary libraries"
   ]
  },
  {
   "cell_type": "code",
   "execution_count": 55,
   "id": "3b529ff0",
   "metadata": {},
   "outputs": [],
   "source": [
    "import nltk\n",
    "import pandas as pd\n",
    "import numpy as np\n",
    "import re\n",
    "import nltk\n",
    "from nltk.tokenize import word_tokenize\n",
    "from nltk.corpus import stopwords\n",
    "from sklearn.feature_extraction.text import TfidfVectorizer\n",
    "from sklearn.model_selection import train_test_split, GridSearchCV\n",
    "from sklearn.svm import LinearSVC\n",
    "from sklearn.metrics import accuracy_score\n",
    "import sys, os\n",
    "from warnings import simplefilter\n",
    "if not sys.warnoptions:\n",
    "    simplefilter(\"ignore\")\n",
    "    os.environ[\"PYTHONWARNINGS\"] = \"ignore\"\n",
    "from sklearn.metrics import classification_report, confusion_matrix, ConfusionMatrixDisplay\n",
    "from sklearn.feature_extraction.text import CountVectorizer, TfidfTransformer\n",
    "from sklearn.naive_bayes import BernoulliNB\n",
    "from sklearn.ensemble import RandomForestClassifier, VotingClassifier\n",
    "from sklearn.linear_model import LogisticRegression\n",
    "from sklearn.model_selection import train_test_split, RandomizedSearchCV, RepeatedStratifiedKFold\n",
    "from sklearn.pipeline import Pipeline\n",
    "from pprint import pprint"
   ]
  },
  {
   "cell_type": "code",
   "execution_count": 50,
   "id": "42aa0b83",
   "metadata": {},
   "outputs": [
    {
     "name": "stderr",
     "output_type": "stream",
     "text": [
      "[nltk_data] Downloading package stopwords to\n",
      "[nltk_data]     C:\\Users\\dell\\AppData\\Roaming\\nltk_data...\n",
      "[nltk_data]   Package stopwords is already up-to-date!\n",
      "[nltk_data] Downloading package punkt to\n",
      "[nltk_data]     C:\\Users\\dell\\AppData\\Roaming\\nltk_data...\n",
      "[nltk_data]   Package punkt is already up-to-date!\n"
     ]
    },
    {
     "data": {
      "text/plain": [
       "True"
      ]
     },
     "execution_count": 50,
     "metadata": {},
     "output_type": "execute_result"
    }
   ],
   "source": [
    "nltk.download('stopwords')\n",
    "nltk.download('punkt')"
   ]
  },
  {
   "cell_type": "markdown",
   "id": "57ce5edf",
   "metadata": {},
   "source": [
    "## Loading the dataset"
   ]
  },
  {
   "cell_type": "code",
   "execution_count": 51,
   "id": "a289881f",
   "metadata": {},
   "outputs": [],
   "source": [
    "train_df = pd.read_csv('train.csv')\n",
    "test_df = pd.read_csv('test.csv')"
   ]
  },
  {
   "cell_type": "code",
   "execution_count": 52,
   "id": "2eeeffe3",
   "metadata": {},
   "outputs": [
    {
     "data": {
      "text/html": [
       "<div>\n",
       "<style scoped>\n",
       "    .dataframe tbody tr th:only-of-type {\n",
       "        vertical-align: middle;\n",
       "    }\n",
       "\n",
       "    .dataframe tbody tr th {\n",
       "        vertical-align: top;\n",
       "    }\n",
       "\n",
       "    .dataframe thead th {\n",
       "        text-align: right;\n",
       "    }\n",
       "</style>\n",
       "<table border=\"1\" class=\"dataframe\">\n",
       "  <thead>\n",
       "    <tr style=\"text-align: right;\">\n",
       "      <th></th>\n",
       "      <th>TweetId</th>\n",
       "      <th>Label</th>\n",
       "      <th>TweetText</th>\n",
       "    </tr>\n",
       "  </thead>\n",
       "  <tbody>\n",
       "    <tr>\n",
       "      <th>0</th>\n",
       "      <td>304271250237304833</td>\n",
       "      <td>Politics</td>\n",
       "      <td>'#SecKerry: The value of the @StateDept and @U...</td>\n",
       "    </tr>\n",
       "    <tr>\n",
       "      <th>1</th>\n",
       "      <td>304834304222064640</td>\n",
       "      <td>Politics</td>\n",
       "      <td>'@rraina1481 I fear so'</td>\n",
       "    </tr>\n",
       "    <tr>\n",
       "      <th>2</th>\n",
       "      <td>303568995880144898</td>\n",
       "      <td>Sports</td>\n",
       "      <td>'Watch video highlights of the #wwc13 final be...</td>\n",
       "    </tr>\n",
       "    <tr>\n",
       "      <th>3</th>\n",
       "      <td>304366580664528896</td>\n",
       "      <td>Sports</td>\n",
       "      <td>'RT @chelscanlan: At Nitro Circus at #AlbertPa...</td>\n",
       "    </tr>\n",
       "    <tr>\n",
       "      <th>4</th>\n",
       "      <td>296770931098009601</td>\n",
       "      <td>Sports</td>\n",
       "      <td>'@cricketfox Always a good thing. Thanks for t...</td>\n",
       "    </tr>\n",
       "  </tbody>\n",
       "</table>\n",
       "</div>"
      ],
      "text/plain": [
       "              TweetId     Label  \\\n",
       "0  304271250237304833  Politics   \n",
       "1  304834304222064640  Politics   \n",
       "2  303568995880144898    Sports   \n",
       "3  304366580664528896    Sports   \n",
       "4  296770931098009601    Sports   \n",
       "\n",
       "                                           TweetText  \n",
       "0  '#SecKerry: The value of the @StateDept and @U...  \n",
       "1                            '@rraina1481 I fear so'  \n",
       "2  'Watch video highlights of the #wwc13 final be...  \n",
       "3  'RT @chelscanlan: At Nitro Circus at #AlbertPa...  \n",
       "4  '@cricketfox Always a good thing. Thanks for t...  "
      ]
     },
     "execution_count": 52,
     "metadata": {},
     "output_type": "execute_result"
    }
   ],
   "source": [
    "train_df.head()"
   ]
  },
  {
   "cell_type": "code",
   "execution_count": 53,
   "id": "e20e6263",
   "metadata": {
    "scrolled": false
   },
   "outputs": [
    {
     "data": {
      "text/html": [
       "<div>\n",
       "<style scoped>\n",
       "    .dataframe tbody tr th:only-of-type {\n",
       "        vertical-align: middle;\n",
       "    }\n",
       "\n",
       "    .dataframe tbody tr th {\n",
       "        vertical-align: top;\n",
       "    }\n",
       "\n",
       "    .dataframe thead th {\n",
       "        text-align: right;\n",
       "    }\n",
       "</style>\n",
       "<table border=\"1\" class=\"dataframe\">\n",
       "  <thead>\n",
       "    <tr style=\"text-align: right;\">\n",
       "      <th></th>\n",
       "      <th>TweetId</th>\n",
       "      <th>TweetText</th>\n",
       "    </tr>\n",
       "  </thead>\n",
       "  <tbody>\n",
       "    <tr>\n",
       "      <th>0</th>\n",
       "      <td>306486520121012224</td>\n",
       "      <td>'28. The home side threaten again through Maso...</td>\n",
       "    </tr>\n",
       "    <tr>\n",
       "      <th>1</th>\n",
       "      <td>286353402605228032</td>\n",
       "      <td>'@mrbrown @aulia Thx for asking. See http://t....</td>\n",
       "    </tr>\n",
       "    <tr>\n",
       "      <th>2</th>\n",
       "      <td>289531046037438464</td>\n",
       "      <td>'@Sochi2014 construction along the shores of t...</td>\n",
       "    </tr>\n",
       "    <tr>\n",
       "      <th>3</th>\n",
       "      <td>306451661403062273</td>\n",
       "      <td>'#SecKerry\\u2019s remarks after meeting with F...</td>\n",
       "    </tr>\n",
       "    <tr>\n",
       "      <th>4</th>\n",
       "      <td>297941800658812928</td>\n",
       "      <td>'The #IPLauction has begun. Ricky Ponting is t...</td>\n",
       "    </tr>\n",
       "  </tbody>\n",
       "</table>\n",
       "</div>"
      ],
      "text/plain": [
       "              TweetId                                          TweetText\n",
       "0  306486520121012224  '28. The home side threaten again through Maso...\n",
       "1  286353402605228032  '@mrbrown @aulia Thx for asking. See http://t....\n",
       "2  289531046037438464  '@Sochi2014 construction along the shores of t...\n",
       "3  306451661403062273  '#SecKerry\\u2019s remarks after meeting with F...\n",
       "4  297941800658812928  'The #IPLauction has begun. Ricky Ponting is t..."
      ]
     },
     "execution_count": 53,
     "metadata": {},
     "output_type": "execute_result"
    }
   ],
   "source": [
    "test_df.head()"
   ]
  },
  {
   "cell_type": "markdown",
   "id": "b3f9859b",
   "metadata": {},
   "source": [
    "## spliting the data into training and validation sets"
   ]
  },
  {
   "cell_type": "code",
   "execution_count": 54,
   "id": "f3c732b8",
   "metadata": {},
   "outputs": [],
   "source": [
    "X_train, X_val, y_train, y_val = train_test_split(train_df['TweetText'], train_df['Label'], test_size=0.2, random_state=42)"
   ]
  },
  {
   "cell_type": "code",
   "execution_count": 56,
   "id": "04002b75",
   "metadata": {},
   "outputs": [],
   "source": [
    "def preprocess_text_data(tweet_text):\n",
    "    # Remove URLs, mentions, and special characters\n",
    "    tweet_text = re.sub(r\"http\\S+|www\\S+|https\\S+\", '', tweet_text, flags=re.MULTILINE)\n",
    "    tweet_text = re.sub(r'\\@\\w+|\\#', '', tweet_text)\n",
    "    tweet_text = re.sub(r'[^\\w\\s]', '', tweet_text)\n",
    "\n",
    "    # Tokenize the text\n",
    "    tokens = word_tokenize(tweet_text)\n",
    "\n",
    "    # Convert tokens to lowercase\n",
    "    lowercase_tokens = [token.lower() for token in tokens]\n",
    "\n",
    "    # Remove stopwords\n",
    "    stopwords_list = stopwords.words('english')\n",
    "    filtered_tokens = [token for token in lowercase_tokens if token not in stopwords_list]\n",
    "\n",
    "    # Join the tokens back into a string\n",
    "    preprocessed_tweet = ' '.join(filtered_tokens)\n",
    "    \n",
    "    return preprocessed_tweet\n"
   ]
  },
  {
   "cell_type": "markdown",
   "id": "e903fa43",
   "metadata": {},
   "source": [
    "## preprocessing the tweet text"
   ]
  },
  {
   "cell_type": "code",
   "execution_count": 57,
   "id": "752bce83",
   "metadata": {},
   "outputs": [],
   "source": [
    "train_df['TweetText'] = train_df['TweetText'].apply(preprocess_text_data)\n",
    "test_df['TweetText'] = test_df['TweetText'].apply(preprocess_text_data)"
   ]
  },
  {
   "cell_type": "code",
   "execution_count": 36,
   "id": "2f608d1f",
   "metadata": {},
   "outputs": [],
   "source": [
    "# create the TF-IDF vectorizer\n",
    "vectorizer = TfidfVectorizer(max_features=5000)\n",
    "\n",
    "# fit the vectorizer on the training data and transform the training and validation data\n",
    "X_train = vectorizer.fit_transform(X_train).toarray()\n",
    "X_val = vectorizer.transform(X_val).toarray()\n",
    "X_test = vectorizer.transform(test_df['TweetText']).toarray()"
   ]
  },
  {
   "cell_type": "code",
   "execution_count": 37,
   "id": "579fcdca",
   "metadata": {},
   "outputs": [],
   "source": [
    "# convert the target labels to numerical values\n",
    "y_train = np.where(y_train == 'Politics', 1, 0)\n",
    "y_val = np.where(y_val == 'Politics', 1, 0)"
   ]
  },
  {
   "cell_type": "code",
   "execution_count": 38,
   "id": "250b5c47",
   "metadata": {},
   "outputs": [
    {
     "name": "stdout",
     "output_type": "stream",
     "text": [
      "[1 1 0 ... 1 1 1]\n"
     ]
    }
   ],
   "source": [
    "print(y_train)"
   ]
  },
  {
   "cell_type": "code",
   "execution_count": 12,
   "id": "6b68111f",
   "metadata": {},
   "outputs": [],
   "source": [
    "# train a linear SVM model\n",
    "clf = LinearSVC(max_iter=5000)"
   ]
  },
  {
   "cell_type": "code",
   "execution_count": 13,
   "id": "28c84ae8",
   "metadata": {},
   "outputs": [
    {
     "name": "stderr",
     "output_type": "stream",
     "text": [
      "C:\\Users\\dell\\anaconda3\\lib\\site-packages\\sklearn\\svm\\_base.py:1206: ConvergenceWarning: Liblinear failed to converge, increase the number of iterations.\n",
      "  warnings.warn(\n"
     ]
    },
    {
     "data": {
      "text/plain": [
       "GridSearchCV(cv=5, estimator=LinearSVC(max_iter=5000),\n",
       "             param_grid={'C': [0.1, 1, 10, 100]})"
      ]
     },
     "execution_count": 13,
     "metadata": {},
     "output_type": "execute_result"
    }
   ],
   "source": [
    "# grid search for hyperparameter tuning\n",
    "params = {'C': [0.1, 1, 10, 100]}\n",
    "grid_search = GridSearchCV(clf, params, cv=5)\n",
    "grid_search.fit(X_train, y_train)"
   ]
  },
  {
   "cell_type": "code",
   "execution_count": 14,
   "id": "11e5ddfb",
   "metadata": {},
   "outputs": [
    {
     "name": "stdout",
     "output_type": "stream",
     "text": [
      "Validation accuracy: 0.9486590038314177\n"
     ]
    }
   ],
   "source": [
    "# get the best hyperparameters and evaluate on the validation set\n",
    "best_clf = grid_search.best_estimator_\n",
    "y_pred = best_clf.predict(X_val)\n",
    "acc = accuracy_score(y_val, y_pred)\n",
    "print('Validation accuracy:', acc)"
   ]
  },
  {
   "cell_type": "code",
   "execution_count": 16,
   "id": "100d1841",
   "metadata": {},
   "outputs": [],
   "source": [
    "# make predictions on the test data\n",
    "test_pred = best_clf.predict(X_test)"
   ]
  },
  {
   "cell_type": "code",
   "execution_count": 17,
   "id": "f68367b2",
   "metadata": {},
   "outputs": [
    {
     "name": "stdout",
     "output_type": "stream",
     "text": [
      "[0 0 1 ... 0 1 0]\n"
     ]
    }
   ],
   "source": [
    "print(test_pred)"
   ]
  },
  {
   "cell_type": "code",
   "execution_count": 18,
   "id": "99cdb008",
   "metadata": {},
   "outputs": [],
   "source": [
    "# convert the numerical labels back to text labels\n",
    "test_pred = np.where(test_pred == 1, 'Politics', 'Sports')"
   ]
  },
  {
   "cell_type": "code",
   "execution_count": null,
   "id": "77dfd3bf",
   "metadata": {},
   "outputs": [],
   "source": [
    "# create submission file\n",
    "submission_df = pd.DataFrame({'TweetId': test_df['TweetId'], 'Label': test_pred})\n",
    "submission_df.to_csv('submission.csv', index=False)"
   ]
  },
  {
   "cell_type": "code",
   "execution_count": null,
   "id": "b8a909f0",
   "metadata": {},
   "outputs": [],
   "source": [
    "submission_df"
   ]
  },
  {
   "cell_type": "markdown",
   "id": "088798f0",
   "metadata": {},
   "source": [
    "## Defining the model and Hyper-Parameter Tuning"
   ]
  },
  {
   "cell_type": "code",
   "execution_count": 58,
   "id": "b78dc699",
   "metadata": {},
   "outputs": [
    {
     "name": "stdout",
     "output_type": "stream",
     "text": [
      "Fitting 50 folds for each of 10 candidates, totalling 500 fits\n",
      "Best Score:  0.9859654752114662\n",
      "Best Params: {'ensemble__bnb__alpha': 0.5,\n",
      " 'ensemble__bnb__fit_prior': True,\n",
      " 'ensemble__lgreg__C': 10.0,\n",
      " 'ensemble__lgreg__max_iter': 100,\n",
      " 'ensemble__lgreg__penalty': 'l1',\n",
      " 'ensemble__lgreg__solver': 'liblinear',\n",
      " 'ensemble__rndf__max_depth': 10,\n",
      " 'ensemble__rndf__min_samples_leaf': 4,\n",
      " 'ensemble__rndf__min_samples_split': 10,\n",
      " 'ensemble__rndf__n_estimators': 600,\n",
      " 'tfidf__norm': 'l2',\n",
      " 'tfidf__use_idf': False,\n",
      " 'vect__max_df': 1.0,\n",
      " 'vect__max_features': 10000,\n",
      " 'vect__ngram_range': (1, 2),\n",
      " 'vect__stop_words': 'english'}\n"
     ]
    }
   ],
   "source": [
    "X, y = train_df.TweetText, train_df.Label\n",
    "X_train, X_test, y_train, y_test = train_test_split(\n",
    "    X, y, test_size=.2, stratify=y\n",
    ")\n",
    "\n",
    "clf_pipe = Pipeline([\n",
    "    (\"vect\", CountVectorizer()),\n",
    "    (\"tfidf\", TfidfTransformer()),\n",
    "    ('ensemble', VotingClassifier(\n",
    "        voting='soft',\n",
    "        estimators=[\n",
    "            ('bnb', BernoulliNB()),\n",
    "            ('lgreg', LogisticRegression()),\n",
    "            ('rndf', RandomForestClassifier())\n",
    "        ]\n",
    "    ))\n",
    "])\n",
    "\n",
    "clf_params = {\n",
    "    'vect__stop_words': ['english'],\n",
    "    \"vect__max_df\": [0.5, 1.0],\n",
    "    'vect__max_features': (5000, 10000),\n",
    "    \"vect__ngram_range\": ((1, 1), (1, 2)),\n",
    "    'tfidf__use_idf': [False, True],\n",
    "    'tfidf__norm': ('l1', 'l2'),\n",
    "    'ensemble__bnb__alpha': np.linspace(0.5, 10, 10),\n",
    "    'ensemble__bnb__fit_prior': [True, False],\n",
    "    'ensemble__lgreg__max_iter': (100, 1000),\n",
    "    'ensemble__lgreg__solver': ['liblinear'],\n",
    "    'ensemble__lgreg__penalty': ['l1', 'l2'],\n",
    "    'ensemble__lgreg__C': np.linspace(10, 1000, 10),\n",
    "    'ensemble__rndf__max_depth': [10, 20],\n",
    "    'ensemble__rndf__min_samples_leaf': [2, 4],\n",
    "    'ensemble__rndf__min_samples_split': [5, 10],\n",
    "    'ensemble__rndf__n_estimators': [300, 600],\n",
    "}\n",
    "\n",
    "rsf = RepeatedStratifiedKFold()\n",
    "clf = RandomizedSearchCV(clf_pipe, clf_params, scoring='roc_auc', verbose=1, cv=rsf)\n",
    "clf.fit(X_train, y_train)\n",
    "\n",
    "print(\"Best Score: \", clf.best_score_)\n",
    "print(\"Best Params: \", end=\"\")\n",
    "pprint(clf.best_params_)"
   ]
  },
  {
   "cell_type": "code",
   "execution_count": 65,
   "id": "ec31fb1a",
   "metadata": {},
   "outputs": [],
   "source": [
    "test_df[\"Label\"] = clf.predict(test_df['TweetText'])\n"
   ]
  },
  {
   "cell_type": "code",
   "execution_count": 68,
   "id": "2e726a35",
   "metadata": {},
   "outputs": [
    {
     "name": "stdout",
     "output_type": "stream",
     "text": [
      "0         Sports\n",
      "1         Sports\n",
      "2       Politics\n",
      "3       Politics\n",
      "4         Sports\n",
      "          ...   \n",
      "2605      Sports\n",
      "2606      Sports\n",
      "2607      Sports\n",
      "2608    Politics\n",
      "2609      Sports\n",
      "Name: Label, Length: 2610, dtype: object\n"
     ]
    }
   ],
   "source": [
    "print(test_df[\"Label\"])"
   ]
  },
  {
   "cell_type": "markdown",
   "id": "0bb1e202",
   "metadata": {},
   "source": [
    "## Creating the Submission File"
   ]
  },
  {
   "cell_type": "code",
   "execution_count": 71,
   "id": "5af79de1",
   "metadata": {},
   "outputs": [],
   "source": [
    "results = test_df[[\"TweetId\", \"Label\"]].reset_index(drop=True)\n",
    "results.to_csv(\"submission.csv\", index=False)"
   ]
  }
 ],
 "metadata": {
  "kernelspec": {
   "display_name": "Python 3 (ipykernel)",
   "language": "python",
   "name": "python3"
  },
  "language_info": {
   "codemirror_mode": {
    "name": "ipython",
    "version": 3
   },
   "file_extension": ".py",
   "mimetype": "text/x-python",
   "name": "python",
   "nbconvert_exporter": "python",
   "pygments_lexer": "ipython3",
   "version": "3.9.12"
  }
 },
 "nbformat": 4,
 "nbformat_minor": 5
}
